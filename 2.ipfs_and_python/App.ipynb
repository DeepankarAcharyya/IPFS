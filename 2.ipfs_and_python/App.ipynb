{
 "cells": [
  {
   "cell_type": "code",
   "execution_count": 3,
   "id": "43fb049c-5576-4d66-a1b9-d0f0408abb93",
   "metadata": {},
   "outputs": [
    {
     "name": "stdout",
     "output_type": "stream",
     "text": [
      "/usr/lib/python3/dist-packages/secretstorage/dhcrypto.py:15: CryptographyDeprecationWarning: int_from_bytes is deprecated, use int.from_bytes instead\n",
      "  from cryptography.utils import int_from_bytes\n",
      "/usr/lib/python3/dist-packages/secretstorage/util.py:19: CryptographyDeprecationWarning: int_from_bytes is deprecated, use int.from_bytes instead\n",
      "  from cryptography.utils import int_from_bytes\n",
      "Defaulting to user installation because normal site-packages is not writeable\n",
      "Collecting ipfshttpclient==0.4.10\n",
      "  Downloading ipfshttpclient-0.4.10-py2.py3-none-any.whl (153 kB)\n",
      "     |████████████████████████████████| 153 kB 149 kB/s            \n",
      "\u001b[?25hRequirement already satisfied: requests>=2.11 in /home/dacharyya/.local/lib/python3.8/site-packages (from ipfshttpclient==0.4.10) (2.26.0)\n",
      "Requirement already satisfied: six in /home/dacharyya/.local/lib/python3.8/site-packages (from ipfshttpclient==0.4.10) (1.16.0)\n",
      "Requirement already satisfied: multiaddr>=0.0.7 in /home/dacharyya/.local/lib/python3.8/site-packages (from ipfshttpclient==0.4.10) (0.0.9)\n",
      "Requirement already satisfied: netaddr in /home/dacharyya/.local/lib/python3.8/site-packages (from multiaddr>=0.0.7->ipfshttpclient==0.4.10) (0.8.0)\n",
      "Requirement already satisfied: varint in /home/dacharyya/.local/lib/python3.8/site-packages (from multiaddr>=0.0.7->ipfshttpclient==0.4.10) (1.0.2)\n",
      "Requirement already satisfied: base58 in /home/dacharyya/.local/lib/python3.8/site-packages (from multiaddr>=0.0.7->ipfshttpclient==0.4.10) (2.1.1)\n",
      "Requirement already satisfied: charset-normalizer~=2.0.0 in /home/dacharyya/.local/lib/python3.8/site-packages (from requests>=2.11->ipfshttpclient==0.4.10) (2.0.7)\n",
      "Requirement already satisfied: urllib3<1.27,>=1.21.1 in /home/dacharyya/.local/lib/python3.8/site-packages (from requests>=2.11->ipfshttpclient==0.4.10) (1.26.7)\n",
      "Requirement already satisfied: idna<4,>=2.5 in /usr/lib/python3/dist-packages (from requests>=2.11->ipfshttpclient==0.4.10) (2.8)\n",
      "Requirement already satisfied: certifi>=2017.4.17 in /usr/lib/python3/dist-packages (from requests>=2.11->ipfshttpclient==0.4.10) (2019.11.28)\n",
      "Installing collected packages: ipfshttpclient\n",
      "  Attempting uninstall: ipfshttpclient\n",
      "    Found existing installation: ipfshttpclient 0.8.0a2\n",
      "    Uninstalling ipfshttpclient-0.8.0a2:\n",
      "      Successfully uninstalled ipfshttpclient-0.8.0a2\n",
      "Successfully installed ipfshttpclient-0.4.10\n"
     ]
    }
   ],
   "source": [
    "!pip install ipfshttpclient==0.4.10"
   ]
  },
  {
   "cell_type": "code",
   "execution_count": 4,
   "id": "7ef934ff-d27d-4916-bb03-20fe5c05891b",
   "metadata": {},
   "outputs": [],
   "source": [
    "import ipfshttpclient"
   ]
  },
  {
   "cell_type": "code",
   "execution_count": 5,
   "id": "a189bf4c-e280-4b92-a2ef-699e1b6d9a3a",
   "metadata": {},
   "outputs": [
    {
     "name": "stderr",
     "output_type": "stream",
     "text": [
      "/home/dacharyya/.local/lib/python3.8/site-packages/ipfshttpclient/client/__init__.py:75: VersionMismatch: Unsupported daemon version '0.11.0' (not in range: 0.5.0 ≤ … < 0.9.0)\n",
      "  ~ipfshttpclient.exceptions.VersionMismatch\n"
     ]
    }
   ],
   "source": [
    "client = ipfshttpclient.connect()"
   ]
  },
  {
   "cell_type": "code",
   "execution_count": 6,
   "id": "7ae3480f-0725-4e6d-925e-c9182d185fe8",
   "metadata": {},
   "outputs": [],
   "source": [
    "res = client.add('textfile.txt')"
   ]
  },
  {
   "cell_type": "code",
   "execution_count": 7,
   "id": "727a203b",
   "metadata": {},
   "outputs": [
    {
     "data": {
      "text/plain": [
       "<ipfshttpclient.client.base.ResponseBase: {'Name': 'textfile.txt', 'Hash': 'QmXrFFyGVzKEZLNhb4V7L21dVY6tbjBgWRp1GVgD8Z7WPx', 'Size': '63'}>"
      ]
     },
     "execution_count": 7,
     "metadata": {},
     "output_type": "execute_result"
    }
   ],
   "source": [
    "res"
   ]
  },
  {
   "cell_type": "markdown",
   "id": "ac34c1b2",
   "metadata": {},
   "source": [
    "Useful references:\n",
    "\n",
    "https://github.com/ipfs-shipyard/py-ipfs-http-client\n",
    "\n",
    "https://pypi.org/project/ipfshttpclient/#usage\n",
    "\n",
    "https://medium.com/python-pandemonium/getting-started-with-python-and-ipfs-94d14fdffd10\n"
   ]
  },
  {
   "cell_type": "code",
   "execution_count": null,
   "id": "f98ce81c",
   "metadata": {},
   "outputs": [],
   "source": []
  }
 ],
 "metadata": {
  "kernelspec": {
   "display_name": "Python 3 (ipykernel)",
   "language": "python",
   "name": "python3"
  },
  "language_info": {
   "codemirror_mode": {
    "name": "ipython",
    "version": 3
   },
   "file_extension": ".py",
   "mimetype": "text/x-python",
   "name": "python",
   "nbconvert_exporter": "python",
   "pygments_lexer": "ipython3",
   "version": "3.8.10"
  }
 },
 "nbformat": 4,
 "nbformat_minor": 5
}
