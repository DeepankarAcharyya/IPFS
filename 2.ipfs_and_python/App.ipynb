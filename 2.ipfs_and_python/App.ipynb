{
 "cells": [
  {
   "cell_type": "code",
   "execution_count": 1,
   "id": "892aca3a-1158-4c72-b04a-5ab358bcd8f3",
   "metadata": {},
   "outputs": [
    {
     "name": "stderr",
     "output_type": "stream",
     "text": [
      "/tmp/ipykernel_7513/1874782562.py:1: FutureWarning: The `ipfsapi` library is deprecated and will stop receiving updates on the 31.12.2019! If you are on Python 3.5+ please enable and fix all Python deprecation warnings (CPython flag `-Wd`) and switch to the new `ipfshttpclient` library name. Python 2.7 and 3.4 will not be supported by the new library, so please upgrade.\n",
      "  import ipfsapi\n"
     ]
    }
   ],
   "source": [
    "import ipfsapi"
   ]
  },
  {
   "cell_type": "code",
   "execution_count": 7,
   "id": "43fb049c-5576-4d66-a1b9-d0f0408abb93",
   "metadata": {},
   "outputs": [
    {
     "name": "stdout",
     "output_type": "stream",
     "text": [
      "/usr/lib/python3/dist-packages/secretstorage/dhcrypto.py:15: CryptographyDeprecationWarning: int_from_bytes is deprecated, use int.from_bytes instead\n",
      "  from cryptography.utils import int_from_bytes\n",
      "/usr/lib/python3/dist-packages/secretstorage/util.py:19: CryptographyDeprecationWarning: int_from_bytes is deprecated, use int.from_bytes instead\n",
      "  from cryptography.utils import int_from_bytes\n",
      "Defaulting to user installation because normal site-packages is not writeable\n",
      "Collecting ipfshttpclient==0.8.0a1\n",
      "  Downloading ipfshttpclient-0.8.0a1-py3-none-any.whl (82 kB)\n",
      "     |████████████████████████████████| 82 kB 14 kB/s             \n",
      "\u001b[?25hRequirement already satisfied: requests>=2.11 in /home/dacharyya/.local/lib/python3.8/site-packages (from ipfshttpclient==0.8.0a1) (2.26.0)\n",
      "Requirement already satisfied: multiaddr>=0.0.7 in /home/dacharyya/.local/lib/python3.8/site-packages (from ipfshttpclient==0.8.0a1) (0.0.9)\n",
      "Requirement already satisfied: netaddr in /home/dacharyya/.local/lib/python3.8/site-packages (from multiaddr>=0.0.7->ipfshttpclient==0.8.0a1) (0.8.0)\n",
      "Requirement already satisfied: base58 in /home/dacharyya/.local/lib/python3.8/site-packages (from multiaddr>=0.0.7->ipfshttpclient==0.8.0a1) (2.1.1)\n",
      "Requirement already satisfied: six in /home/dacharyya/.local/lib/python3.8/site-packages (from multiaddr>=0.0.7->ipfshttpclient==0.8.0a1) (1.16.0)\n",
      "Requirement already satisfied: varint in /home/dacharyya/.local/lib/python3.8/site-packages (from multiaddr>=0.0.7->ipfshttpclient==0.8.0a1) (1.0.2)\n",
      "Requirement already satisfied: idna<4,>=2.5 in /usr/lib/python3/dist-packages (from requests>=2.11->ipfshttpclient==0.8.0a1) (2.8)\n",
      "Requirement already satisfied: urllib3<1.27,>=1.21.1 in /home/dacharyya/.local/lib/python3.8/site-packages (from requests>=2.11->ipfshttpclient==0.8.0a1) (1.26.7)\n",
      "Requirement already satisfied: charset-normalizer~=2.0.0 in /home/dacharyya/.local/lib/python3.8/site-packages (from requests>=2.11->ipfshttpclient==0.8.0a1) (2.0.7)\n",
      "Requirement already satisfied: certifi>=2017.4.17 in /usr/lib/python3/dist-packages (from requests>=2.11->ipfshttpclient==0.8.0a1) (2019.11.28)\n",
      "Installing collected packages: ipfshttpclient\n",
      "  Attempting uninstall: ipfshttpclient\n",
      "    Found existing installation: ipfshttpclient 0.4.13.2\n",
      "    Uninstalling ipfshttpclient-0.4.13.2:\n",
      "      Successfully uninstalled ipfshttpclient-0.4.13.2\n",
      "\u001b[31mERROR: pip's dependency resolver does not currently take into account all the packages that are installed. This behaviour is the source of the following dependency conflicts.\n",
      "ipfsapi 0.4.4 requires ipfshttpclient<0.5.0,>=0.4.10, but you have ipfshttpclient 0.8.0a1 which is incompatible.\u001b[0m\n",
      "Successfully installed ipfshttpclient-0.8.0a1\n"
     ]
    }
   ],
   "source": [
    "!pip install ipfshttpclient==0.8.0a1"
   ]
  },
  {
   "cell_type": "code",
   "execution_count": 8,
   "id": "7ef934ff-d27d-4916-bb03-20fe5c05891b",
   "metadata": {},
   "outputs": [],
   "source": [
    "import ipfshttpclient"
   ]
  },
  {
   "cell_type": "code",
   "execution_count": 9,
   "id": "a189bf4c-e280-4b92-a2ef-699e1b6d9a3a",
   "metadata": {},
   "outputs": [
    {
     "ename": "StatusError",
     "evalue": "HTTPError: 405 Client Error: Method Not Allowed for url: http://localhost:5001/api/v0/version?stream-channels=true",
     "output_type": "error",
     "traceback": [
      "\u001b[0;31m---------------------------------------------------------------------------\u001b[0m",
      "\u001b[0;31mHTTPError\u001b[0m                                 Traceback (most recent call last)",
      "File \u001b[0;32m~/.local/lib/python3.8/site-packages/ipfshttpclient/http.py:266\u001b[0m, in \u001b[0;36mHTTPClient._do_raise_for_status\u001b[0;34m(self, response)\u001b[0m\n\u001b[1;32m    265\u001b[0m \u001b[38;5;28;01mtry\u001b[39;00m:\n\u001b[0;32m--> 266\u001b[0m \t\u001b[43mresponse\u001b[49m\u001b[38;5;241;43m.\u001b[39;49m\u001b[43mraise_for_status\u001b[49m\u001b[43m(\u001b[49m\u001b[43m)\u001b[49m\n\u001b[1;32m    267\u001b[0m \u001b[38;5;28;01mexcept\u001b[39;00m requests\u001b[38;5;241m.\u001b[39mexceptions\u001b[38;5;241m.\u001b[39mHTTPError \u001b[38;5;28;01mas\u001b[39;00m error:\n",
      "File \u001b[0;32m~/.local/lib/python3.8/site-packages/requests/models.py:953\u001b[0m, in \u001b[0;36mResponse.raise_for_status\u001b[0;34m(self)\u001b[0m\n\u001b[1;32m    952\u001b[0m \u001b[38;5;28;01mif\u001b[39;00m http_error_msg:\n\u001b[0;32m--> 953\u001b[0m     \u001b[38;5;28;01mraise\u001b[39;00m HTTPError(http_error_msg, response\u001b[38;5;241m=\u001b[39m\u001b[38;5;28mself\u001b[39m)\n",
      "\u001b[0;31mHTTPError\u001b[0m: 405 Client Error: Method Not Allowed for url: http://localhost:5001/api/v0/version?stream-channels=true",
      "\nThe above exception was the direct cause of the following exception:\n",
      "\u001b[0;31mStatusError\u001b[0m                               Traceback (most recent call last)",
      "Input \u001b[0;32mIn [9]\u001b[0m, in \u001b[0;36m<module>\u001b[0;34m\u001b[0m\n\u001b[0;32m----> 1\u001b[0m client \u001b[38;5;241m=\u001b[39m \u001b[43mipfshttpclient\u001b[49m\u001b[38;5;241;43m.\u001b[39;49m\u001b[43mconnect\u001b[49m\u001b[43m(\u001b[49m\u001b[43m)\u001b[49m\n",
      "File \u001b[0;32m~/.local/lib/python3.8/site-packages/ipfshttpclient/client/__init__.py:101\u001b[0m, in \u001b[0;36mconnect\u001b[0;34m(addr, base, chunk_size, session, **defaults)\u001b[0m\n\u001b[1;32m     98\u001b[0m client \u001b[38;5;241m=\u001b[39m Client(addr, base, chunk_size, session, \u001b[38;5;241m*\u001b[39m\u001b[38;5;241m*\u001b[39mdefaults)\n\u001b[1;32m    100\u001b[0m \u001b[38;5;66;03m# Query version number from daemon and validate it\u001b[39;00m\n\u001b[0;32m--> 101\u001b[0m version_str \u001b[38;5;241m=\u001b[39m \u001b[43mclient\u001b[49m\u001b[38;5;241;43m.\u001b[39;49m\u001b[43mversion\u001b[49m\u001b[43m(\u001b[49m\u001b[43m)\u001b[49m[\u001b[38;5;124m\"\u001b[39m\u001b[38;5;124mVersion\u001b[39m\u001b[38;5;124m\"\u001b[39m]\n\u001b[1;32m    102\u001b[0m assert_version(version_str)\n\u001b[1;32m    104\u001b[0m \u001b[38;5;66;03m# Apply workarounds based on daemon version\u001b[39;00m\n",
      "File \u001b[0;32m~/.local/lib/python3.8/site-packages/ipfshttpclient/client/base.py:15\u001b[0m, in \u001b[0;36mreturns_single_item.<locals>.wrapper\u001b[0;34m(*args, **kwargs)\u001b[0m\n\u001b[1;32m     13\u001b[0m \u001b[38;5;129m@functools\u001b[39m\u001b[38;5;241m.\u001b[39mwraps(func)\n\u001b[1;32m     14\u001b[0m \u001b[38;5;28;01mdef\u001b[39;00m \u001b[38;5;21mwrapper\u001b[39m(\u001b[38;5;241m*\u001b[39margs, \u001b[38;5;241m*\u001b[39m\u001b[38;5;241m*\u001b[39mkwargs):\n\u001b[0;32m---> 15\u001b[0m \tresult \u001b[38;5;241m=\u001b[39m \u001b[43mfunc\u001b[49m\u001b[43m(\u001b[49m\u001b[38;5;241;43m*\u001b[39;49m\u001b[43margs\u001b[49m\u001b[43m,\u001b[49m\u001b[43m \u001b[49m\u001b[38;5;241;43m*\u001b[39;49m\u001b[38;5;241;43m*\u001b[39;49m\u001b[43mkwargs\u001b[49m\u001b[43m)\u001b[49m\n\u001b[1;32m     16\u001b[0m \t\u001b[38;5;28;01mif\u001b[39;00m \u001b[38;5;28misinstance\u001b[39m(result, \u001b[38;5;28mlist\u001b[39m):\n\u001b[1;32m     17\u001b[0m \t\t\u001b[38;5;28;01mif\u001b[39;00m \u001b[38;5;28mlen\u001b[39m(result) \u001b[38;5;241m!=\u001b[39m \u001b[38;5;241m1\u001b[39m:\n",
      "File \u001b[0;32m~/.local/lib/python3.8/site-packages/ipfshttpclient/client/miscellaneous.py:204\u001b[0m, in \u001b[0;36mBase.version\u001b[0;34m(self, **kwargs)\u001b[0m\n\u001b[1;32m    189\u001b[0m \u001b[38;5;129m@base\u001b[39m\u001b[38;5;241m.\u001b[39mreturns_single_item\n\u001b[1;32m    190\u001b[0m \u001b[38;5;28;01mdef\u001b[39;00m \u001b[38;5;21mversion\u001b[39m(\u001b[38;5;28mself\u001b[39m, \u001b[38;5;241m*\u001b[39m\u001b[38;5;241m*\u001b[39mkwargs):\n\u001b[1;32m    191\u001b[0m \t\u001b[38;5;124;03m\"\"\"Returns the software version of the currently connected node.\u001b[39;00m\n\u001b[1;32m    192\u001b[0m \u001b[38;5;124;03m\t\u001b[39;00m\n\u001b[1;32m    193\u001b[0m \u001b[38;5;124;03m\t.. code-block:: python\u001b[39;00m\n\u001b[0;32m   (...)\u001b[0m\n\u001b[1;32m    202\u001b[0m \u001b[38;5;124;03m\t\t\tDaemon and system version information\u001b[39;00m\n\u001b[1;32m    203\u001b[0m \u001b[38;5;124;03m\t\"\"\"\u001b[39;00m\n\u001b[0;32m--> 204\u001b[0m \t\u001b[38;5;28;01mreturn\u001b[39;00m \u001b[38;5;28;43mself\u001b[39;49m\u001b[38;5;241;43m.\u001b[39;49m\u001b[43m_client\u001b[49m\u001b[38;5;241;43m.\u001b[39;49m\u001b[43mrequest\u001b[49m\u001b[43m(\u001b[49m\u001b[38;5;124;43m'\u001b[39;49m\u001b[38;5;124;43m/version\u001b[39;49m\u001b[38;5;124;43m'\u001b[39;49m\u001b[43m,\u001b[49m\u001b[43m \u001b[49m\u001b[43mdecoder\u001b[49m\u001b[38;5;241;43m=\u001b[39;49m\u001b[38;5;124;43m'\u001b[39;49m\u001b[38;5;124;43mjson\u001b[39;49m\u001b[38;5;124;43m'\u001b[39;49m\u001b[43m,\u001b[49m\u001b[43m \u001b[49m\u001b[38;5;241;43m*\u001b[39;49m\u001b[38;5;241;43m*\u001b[39;49m\u001b[43mkwargs\u001b[49m\u001b[43m)\u001b[49m\n",
      "File \u001b[0;32m~/.local/lib/python3.8/site-packages/ipfshttpclient/http.py:51\u001b[0m, in \u001b[0;36mpass_defaults.<locals>.wrapper\u001b[0;34m(self, *args, **kwargs)\u001b[0m\n\u001b[1;32m     49\u001b[0m merged \u001b[38;5;241m=\u001b[39m utils\u001b[38;5;241m.\u001b[39mdeep_update(merged, \u001b[38;5;28mself\u001b[39m\u001b[38;5;241m.\u001b[39mdefaults)\n\u001b[1;32m     50\u001b[0m merged \u001b[38;5;241m=\u001b[39m utils\u001b[38;5;241m.\u001b[39mdeep_update(merged, kwargs)\n\u001b[0;32m---> 51\u001b[0m \u001b[38;5;28;01mreturn\u001b[39;00m \u001b[43mfunc\u001b[49m\u001b[43m(\u001b[49m\u001b[38;5;28;43mself\u001b[39;49m\u001b[43m,\u001b[49m\u001b[43m \u001b[49m\u001b[38;5;241;43m*\u001b[39;49m\u001b[43margs\u001b[49m\u001b[43m,\u001b[49m\u001b[43m \u001b[49m\u001b[38;5;241;43m*\u001b[39;49m\u001b[38;5;241;43m*\u001b[39;49m\u001b[43mmerged\u001b[49m\u001b[43m)\u001b[49m\n",
      "File \u001b[0;32m~/.local/lib/python3.8/site-packages/ipfshttpclient/http.py:385\u001b[0m, in \u001b[0;36mHTTPClient.request\u001b[0;34m(self, path, args, files, opts, stream, data, decoder, headers, username, password, timeout, offline, return_result)\u001b[0m\n\u001b[1;32m    381\u001b[0m \tstream \u001b[38;5;241m=\u001b[39m \u001b[38;5;28;01mFalse\u001b[39;00m\n\u001b[1;32m    383\u001b[0m parser \u001b[38;5;241m=\u001b[39m encoding\u001b[38;5;241m.\u001b[39mget_encoding(decoder \u001b[38;5;28;01mif\u001b[39;00m decoder \u001b[38;5;28;01melse\u001b[39;00m \u001b[38;5;124m\"\u001b[39m\u001b[38;5;124mnone\u001b[39m\u001b[38;5;124m\"\u001b[39m)\n\u001b[0;32m--> 385\u001b[0m res \u001b[38;5;241m=\u001b[39m \u001b[38;5;28;43mself\u001b[39;49m\u001b[38;5;241;43m.\u001b[39;49m\u001b[43m_request\u001b[49m\u001b[43m(\u001b[49m\u001b[43mmethod\u001b[49m\u001b[43m,\u001b[49m\u001b[43m \u001b[49m\u001b[43murl\u001b[49m\u001b[43m,\u001b[49m\u001b[43m \u001b[49m\u001b[43mparams\u001b[49m\u001b[43m,\u001b[49m\u001b[43m \u001b[49m\u001b[43mstream\u001b[49m\u001b[43m,\u001b[49m\u001b[43m \u001b[49m\u001b[43mfiles\u001b[49m\u001b[43m,\u001b[49m\u001b[43m \u001b[49m\u001b[43mheaders\u001b[49m\u001b[43m,\u001b[49m\n\u001b[1;32m    386\u001b[0m \u001b[43m                    \u001b[49m\u001b[43musername\u001b[49m\u001b[43m,\u001b[49m\u001b[43m \u001b[49m\u001b[43mpassword\u001b[49m\u001b[43m,\u001b[49m\u001b[43m \u001b[49m\u001b[43mdata\u001b[49m\u001b[43m,\u001b[49m\u001b[43m \u001b[49m\u001b[43mtimeout\u001b[49m\u001b[43m)\u001b[49m\n\u001b[1;32m    388\u001b[0m \u001b[38;5;28;01mif\u001b[39;00m \u001b[38;5;129;01mnot\u001b[39;00m return_result:\n\u001b[1;32m    389\u001b[0m \t\u001b[38;5;28;01mreturn\u001b[39;00m \u001b[38;5;28;01mNone\u001b[39;00m\n",
      "File \u001b[0;32m~/.local/lib/python3.8/site-packages/ipfshttpclient/http.py:307\u001b[0m, in \u001b[0;36mHTTPClient._request\u001b[0;34m(self, method, url, params, stream, files, headers, username, password, data, timeout)\u001b[0m\n\u001b[1;32m    301\u001b[0m res \u001b[38;5;241m=\u001b[39m \u001b[38;5;28mself\u001b[39m\u001b[38;5;241m.\u001b[39m_do_request(method, url, params\u001b[38;5;241m=\u001b[39mparams, stream\u001b[38;5;241m=\u001b[39mstream,\n\u001b[1;32m    302\u001b[0m                        files\u001b[38;5;241m=\u001b[39mfiles, headers\u001b[38;5;241m=\u001b[39mheaders, auth\u001b[38;5;241m=\u001b[39mauth,\n\u001b[1;32m    303\u001b[0m                        data\u001b[38;5;241m=\u001b[39mdata, timeout\u001b[38;5;241m=\u001b[39mtimeout)\n\u001b[1;32m    305\u001b[0m \u001b[38;5;66;03m# Raise exception for response status\u001b[39;00m\n\u001b[1;32m    306\u001b[0m \u001b[38;5;66;03m# (optionally incorporating the response message, if applicable)\u001b[39;00m\n\u001b[0;32m--> 307\u001b[0m \u001b[38;5;28;43mself\u001b[39;49m\u001b[38;5;241;43m.\u001b[39;49m\u001b[43m_do_raise_for_status\u001b[49m\u001b[43m(\u001b[49m\u001b[43mres\u001b[49m\u001b[43m)\u001b[49m\n\u001b[1;32m    309\u001b[0m \u001b[38;5;28;01mreturn\u001b[39;00m res\n",
      "File \u001b[0;32m~/.local/lib/python3.8/site-packages/ipfshttpclient/http.py:286\u001b[0m, in \u001b[0;36mHTTPClient._do_raise_for_status\u001b[0;34m(self, response)\u001b[0m\n\u001b[1;32m    284\u001b[0m \tsix\u001b[38;5;241m.\u001b[39mraise_from(exceptions\u001b[38;5;241m.\u001b[39mErrorResponse(msg, error), error)\n\u001b[1;32m    285\u001b[0m \u001b[38;5;28;01melse\u001b[39;00m:\n\u001b[0;32m--> 286\u001b[0m \t\u001b[43msix\u001b[49m\u001b[38;5;241;43m.\u001b[39;49m\u001b[43mraise_from\u001b[49m\u001b[43m(\u001b[49m\u001b[43mexceptions\u001b[49m\u001b[38;5;241;43m.\u001b[39;49m\u001b[43mStatusError\u001b[49m\u001b[43m(\u001b[49m\u001b[43merror\u001b[49m\u001b[43m)\u001b[49m\u001b[43m,\u001b[49m\u001b[43m \u001b[49m\u001b[43merror\u001b[49m\u001b[43m)\u001b[49m\n",
      "File \u001b[0;32m<string>:3\u001b[0m, in \u001b[0;36mraise_from\u001b[0;34m(value, from_value)\u001b[0m\n",
      "\u001b[0;31mStatusError\u001b[0m: HTTPError: 405 Client Error: Method Not Allowed for url: http://localhost:5001/api/v0/version?stream-channels=true"
     ]
    }
   ],
   "source": [
    "client = ipfshttpclient.connect()"
   ]
  },
  {
   "cell_type": "code",
   "execution_count": null,
   "id": "7ae3480f-0725-4e6d-925e-c9182d185fe8",
   "metadata": {},
   "outputs": [],
   "source": []
  }
 ],
 "metadata": {
  "kernelspec": {
   "display_name": "Python 3 (ipykernel)",
   "language": "python",
   "name": "python3"
  },
  "language_info": {
   "codemirror_mode": {
    "name": "ipython",
    "version": 3
   },
   "file_extension": ".py",
   "mimetype": "text/x-python",
   "name": "python",
   "nbconvert_exporter": "python",
   "pygments_lexer": "ipython3",
   "version": "3.8.10"
  }
 },
 "nbformat": 4,
 "nbformat_minor": 5
}
